{
 "cells": [
  {
   "cell_type": "markdown",
   "metadata": {},
   "source": [
    "# Clustering News\n",
    "### This dataset has been downloaded from https://www.kaggle.com/rmisra/news-category-dataset.\n",
    "### Our goal is to categorize news articles based on their headlines and short descriptions"
   ]
  },
  {
   "cell_type": "code",
   "execution_count": 1,
   "metadata": {},
   "outputs": [],
   "source": [
    "# Import of libs\n",
    "\n",
    "import pandas as pd\n",
    "import nltk\n",
    "from nltk.corpus import stopwords\n",
    "from nltk.stem import WordNetLemmatizer\n",
    "import string\n",
    "import pandas as pd\n",
    "from nltk import pos_tag\n",
    "from nltk.stem import PorterStemmer\n",
    "import string\n",
    "from sklearn.feature_extraction.text import TfidfVectorizer\n",
    "import numpy as np\n",
    "from sklearn.model_selection import train_test_split\n",
    "#Naive Bayes\n",
    "from sklearn.naive_bayes import MultinomialNB\n",
    "# K-Means\n",
    "from sklearn.cluster import KMeans\n",
    "#confusion Matrix\n",
    "from sklearn.metrics import confusion_matrix\n",
    "# Score\n",
    "from sklearn.metrics import classification_report"
   ]
  },
  {
   "cell_type": "code",
   "execution_count": 3,
   "metadata": {},
   "outputs": [],
   "source": [
    "#Load the dataset\n",
    "news = pd.read_csv('/media/sf_FormacaoCientistaDeDados/Portfolio/News_Category/news-category-dataset/news_dataset.csv')"
   ]
  },
  {
   "cell_type": "code",
   "execution_count": 4,
   "metadata": {},
   "outputs": [
    {
     "data": {
      "text/html": [
       "<div>\n",
       "<style>\n",
       "    .dataframe thead tr:only-child th {\n",
       "        text-align: right;\n",
       "    }\n",
       "\n",
       "    .dataframe thead th {\n",
       "        text-align: left;\n",
       "    }\n",
       "\n",
       "    .dataframe tbody tr th {\n",
       "        vertical-align: top;\n",
       "    }\n",
       "</style>\n",
       "<table border=\"1\" class=\"dataframe\">\n",
       "  <thead>\n",
       "    <tr style=\"text-align: right;\">\n",
       "      <th></th>\n",
       "      <th>Unnamed: 0</th>\n",
       "      <th>authors</th>\n",
       "      <th>category</th>\n",
       "      <th>date</th>\n",
       "      <th>headline</th>\n",
       "      <th>link</th>\n",
       "      <th>short_description</th>\n",
       "      <th>text</th>\n",
       "    </tr>\n",
       "  </thead>\n",
       "  <tbody>\n",
       "    <tr>\n",
       "      <th>0</th>\n",
       "      <td>11</td>\n",
       "      <td>NaN</td>\n",
       "      <td>WORLD NEWS</td>\n",
       "      <td>2018-05-26</td>\n",
       "      <td>South Korean President Meets North Korea's Kim...</td>\n",
       "      <td>https://www.huffingtonpost.com/entry/south-kor...</td>\n",
       "      <td>The two met to pave the way for a summit betwe...</td>\n",
       "      <td>South Korean President Meets North Korea's Kim...</td>\n",
       "    </tr>\n",
       "    <tr>\n",
       "      <th>1</th>\n",
       "      <td>20</td>\n",
       "      <td>David Moye</td>\n",
       "      <td>WEIRD NEWS</td>\n",
       "      <td>2018-05-26</td>\n",
       "      <td>Weird Father's Day Gifts Your Dad Doesn't Know...</td>\n",
       "      <td>https://www.huffingtonpost.com/entry/weird-fat...</td>\n",
       "      <td>Why buy a boring tie when you can give him tes...</td>\n",
       "      <td>Weird Father's Day Gifts Your Dad Doesn't Know...</td>\n",
       "    </tr>\n",
       "    <tr>\n",
       "      <th>2</th>\n",
       "      <td>22</td>\n",
       "      <td>Hilary Hanson</td>\n",
       "      <td>WEIRD NEWS</td>\n",
       "      <td>2018-05-26</td>\n",
       "      <td>Mystery 'Wolf-Like' Animal Reportedly Shot In ...</td>\n",
       "      <td>https://www.huffingtonpost.com/entry/montana-w...</td>\n",
       "      <td>“We have no idea what this was until we get a ...</td>\n",
       "      <td>Mystery 'Wolf-Like' Animal Reportedly Shot In ...</td>\n",
       "    </tr>\n",
       "    <tr>\n",
       "      <th>3</th>\n",
       "      <td>23</td>\n",
       "      <td>Josh Smith and Christine Kim, Reuters</td>\n",
       "      <td>WORLD NEWS</td>\n",
       "      <td>2018-05-25</td>\n",
       "      <td>North Korea Still Open To Talks After Trump Ca...</td>\n",
       "      <td>https://www.huffingtonpost.com/entry/north-kor...</td>\n",
       "      <td>Trump’s announcement came after repeated threa...</td>\n",
       "      <td>North Korea Still Open To Talks After Trump Ca...</td>\n",
       "    </tr>\n",
       "    <tr>\n",
       "      <th>4</th>\n",
       "      <td>24</td>\n",
       "      <td>NaN</td>\n",
       "      <td>WORLD NEWS</td>\n",
       "      <td>2018-05-25</td>\n",
       "      <td>2 Men Detonate Bomb Inside Indian Restaurant N...</td>\n",
       "      <td>https://www.huffingtonpost.com/entry/mississau...</td>\n",
       "      <td>Fifteen people were taken to the hospital, thr...</td>\n",
       "      <td>2 Men Detonate Bomb Inside Indian Restaurant N...</td>\n",
       "    </tr>\n",
       "  </tbody>\n",
       "</table>\n",
       "</div>"
      ],
      "text/plain": [
       "   Unnamed: 0                                authors    category        date  \\\n",
       "0          11                                    NaN  WORLD NEWS  2018-05-26   \n",
       "1          20                             David Moye  WEIRD NEWS  2018-05-26   \n",
       "2          22                          Hilary Hanson  WEIRD NEWS  2018-05-26   \n",
       "3          23  Josh Smith and Christine Kim, Reuters  WORLD NEWS  2018-05-25   \n",
       "4          24                                    NaN  WORLD NEWS  2018-05-25   \n",
       "\n",
       "                                            headline  \\\n",
       "0  South Korean President Meets North Korea's Kim...   \n",
       "1  Weird Father's Day Gifts Your Dad Doesn't Know...   \n",
       "2  Mystery 'Wolf-Like' Animal Reportedly Shot In ...   \n",
       "3  North Korea Still Open To Talks After Trump Ca...   \n",
       "4  2 Men Detonate Bomb Inside Indian Restaurant N...   \n",
       "\n",
       "                                                link  \\\n",
       "0  https://www.huffingtonpost.com/entry/south-kor...   \n",
       "1  https://www.huffingtonpost.com/entry/weird-fat...   \n",
       "2  https://www.huffingtonpost.com/entry/montana-w...   \n",
       "3  https://www.huffingtonpost.com/entry/north-kor...   \n",
       "4  https://www.huffingtonpost.com/entry/mississau...   \n",
       "\n",
       "                                   short_description  \\\n",
       "0  The two met to pave the way for a summit betwe...   \n",
       "1  Why buy a boring tie when you can give him tes...   \n",
       "2  “We have no idea what this was until we get a ...   \n",
       "3  Trump’s announcement came after repeated threa...   \n",
       "4  Fifteen people were taken to the hospital, thr...   \n",
       "\n",
       "                                                text  \n",
       "0  South Korean President Meets North Korea's Kim...  \n",
       "1  Weird Father's Day Gifts Your Dad Doesn't Know...  \n",
       "2  Mystery 'Wolf-Like' Animal Reportedly Shot In ...  \n",
       "3  North Korea Still Open To Talks After Trump Ca...  \n",
       "4  2 Men Detonate Bomb Inside Indian Restaurant N...  "
      ]
     },
     "execution_count": 4,
     "metadata": {},
     "output_type": "execute_result"
    }
   ],
   "source": [
    "news.head()"
   ]
  },
  {
   "cell_type": "code",
   "execution_count": 5,
   "metadata": {},
   "outputs": [
    {
     "name": "stdout",
     "output_type": "stream",
     "text": [
      "<class 'pandas.core.frame.DataFrame'>\n",
      "RangeIndex: 21450 entries, 0 to 21449\n",
      "Data columns (total 8 columns):\n",
      "Unnamed: 0           21450 non-null int64\n",
      "authors              18296 non-null object\n",
      "category             21450 non-null object\n",
      "date                 21450 non-null object\n",
      "headline             21448 non-null object\n",
      "link                 21450 non-null object\n",
      "short_description    17926 non-null object\n",
      "text                 21450 non-null object\n",
      "dtypes: int64(1), object(7)\n",
      "memory usage: 1.3+ MB\n"
     ]
    }
   ],
   "source": [
    "#Checking missing values, columns and rowcount\n",
    "news.info()"
   ]
  },
  {
   "cell_type": "code",
   "execution_count": 6,
   "metadata": {},
   "outputs": [
    {
     "data": {
      "text/html": [
       "<div>\n",
       "<style>\n",
       "    .dataframe thead tr:only-child th {\n",
       "        text-align: right;\n",
       "    }\n",
       "\n",
       "    .dataframe thead th {\n",
       "        text-align: left;\n",
       "    }\n",
       "\n",
       "    .dataframe tbody tr th {\n",
       "        vertical-align: top;\n",
       "    }\n",
       "</style>\n",
       "<table border=\"1\" class=\"dataframe\">\n",
       "  <thead>\n",
       "    <tr style=\"text-align: right;\">\n",
       "      <th></th>\n",
       "      <th>Unnamed: 0</th>\n",
       "      <th>authors</th>\n",
       "      <th>date</th>\n",
       "      <th>headline</th>\n",
       "      <th>link</th>\n",
       "      <th>short_description</th>\n",
       "      <th>text</th>\n",
       "    </tr>\n",
       "    <tr>\n",
       "      <th>category</th>\n",
       "      <th></th>\n",
       "      <th></th>\n",
       "      <th></th>\n",
       "      <th></th>\n",
       "      <th></th>\n",
       "      <th></th>\n",
       "      <th></th>\n",
       "    </tr>\n",
       "  </thead>\n",
       "  <tbody>\n",
       "    <tr>\n",
       "      <th>GREEN</th>\n",
       "      <td>2622</td>\n",
       "      <td>2063</td>\n",
       "      <td>2622</td>\n",
       "      <td>2622</td>\n",
       "      <td>2622</td>\n",
       "      <td>2046</td>\n",
       "      <td>2622</td>\n",
       "    </tr>\n",
       "    <tr>\n",
       "      <th>MEDIA</th>\n",
       "      <td>2815</td>\n",
       "      <td>2424</td>\n",
       "      <td>2815</td>\n",
       "      <td>2814</td>\n",
       "      <td>2815</td>\n",
       "      <td>2275</td>\n",
       "      <td>2815</td>\n",
       "    </tr>\n",
       "    <tr>\n",
       "      <th>RELIGION</th>\n",
       "      <td>2556</td>\n",
       "      <td>2167</td>\n",
       "      <td>2556</td>\n",
       "      <td>2555</td>\n",
       "      <td>2556</td>\n",
       "      <td>1858</td>\n",
       "      <td>2556</td>\n",
       "    </tr>\n",
       "    <tr>\n",
       "      <th>SCIENCE</th>\n",
       "      <td>2178</td>\n",
       "      <td>1706</td>\n",
       "      <td>2178</td>\n",
       "      <td>2178</td>\n",
       "      <td>2178</td>\n",
       "      <td>1775</td>\n",
       "      <td>2178</td>\n",
       "    </tr>\n",
       "    <tr>\n",
       "      <th>STYLE</th>\n",
       "      <td>2254</td>\n",
       "      <td>2126</td>\n",
       "      <td>2254</td>\n",
       "      <td>2254</td>\n",
       "      <td>2254</td>\n",
       "      <td>1567</td>\n",
       "      <td>2254</td>\n",
       "    </tr>\n",
       "    <tr>\n",
       "      <th>TASTE</th>\n",
       "      <td>2096</td>\n",
       "      <td>2040</td>\n",
       "      <td>2096</td>\n",
       "      <td>2096</td>\n",
       "      <td>2096</td>\n",
       "      <td>1940</td>\n",
       "      <td>2096</td>\n",
       "    </tr>\n",
       "    <tr>\n",
       "      <th>TECH</th>\n",
       "      <td>2082</td>\n",
       "      <td>1660</td>\n",
       "      <td>2082</td>\n",
       "      <td>2082</td>\n",
       "      <td>2082</td>\n",
       "      <td>2081</td>\n",
       "      <td>2082</td>\n",
       "    </tr>\n",
       "    <tr>\n",
       "      <th>WEIRD NEWS</th>\n",
       "      <td>2670</td>\n",
       "      <td>2284</td>\n",
       "      <td>2670</td>\n",
       "      <td>2670</td>\n",
       "      <td>2670</td>\n",
       "      <td>2209</td>\n",
       "      <td>2670</td>\n",
       "    </tr>\n",
       "    <tr>\n",
       "      <th>WORLD NEWS</th>\n",
       "      <td>2177</td>\n",
       "      <td>1826</td>\n",
       "      <td>2177</td>\n",
       "      <td>2177</td>\n",
       "      <td>2177</td>\n",
       "      <td>2175</td>\n",
       "      <td>2177</td>\n",
       "    </tr>\n",
       "  </tbody>\n",
       "</table>\n",
       "</div>"
      ],
      "text/plain": [
       "            Unnamed: 0  authors  date  headline  link  short_description  text\n",
       "category                                                                      \n",
       "GREEN             2622     2063  2622      2622  2622               2046  2622\n",
       "MEDIA             2815     2424  2815      2814  2815               2275  2815\n",
       "RELIGION          2556     2167  2556      2555  2556               1858  2556\n",
       "SCIENCE           2178     1706  2178      2178  2178               1775  2178\n",
       "STYLE             2254     2126  2254      2254  2254               1567  2254\n",
       "TASTE             2096     2040  2096      2096  2096               1940  2096\n",
       "TECH              2082     1660  2082      2082  2082               2081  2082\n",
       "WEIRD NEWS        2670     2284  2670      2670  2670               2209  2670\n",
       "WORLD NEWS        2177     1826  2177      2177  2177               2175  2177"
      ]
     },
     "execution_count": 6,
     "metadata": {},
     "output_type": "execute_result"
    }
   ],
   "source": [
    "news.groupby(['category']).count()"
   ]
  },
  {
   "cell_type": "code",
   "execution_count": 8,
   "metadata": {},
   "outputs": [
    {
     "data": {
      "text/plain": [
       "(21450, 8)"
      ]
     },
     "execution_count": 8,
     "metadata": {},
     "output_type": "execute_result"
    }
   ],
   "source": [
    "# rowcount\n",
    "news.shape"
   ]
  },
  {
   "cell_type": "markdown",
   "metadata": {},
   "source": [
    "## Preprocessing\n",
    "#### We'll to turn \"text\" feature into word vectors"
   ]
  },
  {
   "cell_type": "code",
   "execution_count": 10,
   "metadata": {},
   "outputs": [],
   "source": [
    "# Function for preprocessing\n",
    "def preprocessing(text):\n",
    "    #removing the punctuation\n",
    "    text_v2 = \" \".join(\"\".join([\" \" if ch in string.punctuation else ch for ch in text]).split())\n",
    "    #tokenizes sentences into words\n",
    "    tokens = [word for sent in nltk.sent_tokenize(text_v2) for word in nltk.word_tokenize(sent)]\n",
    "    #lowercase\n",
    "    tokens =[word.lower() for word in tokens]\n",
    "    #Removing stopwords\n",
    "    stopwds = stopwords.words('english')\n",
    "    tokens = [token for token in tokens if token not in stopwds]\n",
    "    #Removing words lenght <  3\n",
    "    tokens = [token for token in tokens if len(tokens) >=3 ]\n",
    "    #Stemming (\"eating\" into \"eat\")\n",
    "    stemmer = PorterStemmer()\n",
    "    tokens = [stemmer.stem(word) for word in tokens]\n",
    "    #POS tagging\n",
    "    tagged_corpus = pos_tag(tokens)\n",
    "    \n",
    "    Noun_tags = ['NN','NNP','NNPS','NNS']\n",
    "    Verb_tags = ['VB','VBD','VBG','VBN','VBP','VBZ']\n",
    "    lemmatizer = WordNetLemmatizer()\n",
    "    \n",
    "    def prat_lemmatize(token,tag):\n",
    "        if tag in Noun_tags:\n",
    "            return lemmatizer.lemmatize(token,'n')\n",
    "        elif tag in Verb_tags:\n",
    "            return lemmatizer.lemmatize(token,'v')\n",
    "        else:\n",
    "            return lemmatizer.lemmatize(token,'n')\n",
    "    \n",
    "    \n",
    "    pre_proc_text = ' '.join([prat_lemmatize(token,tag)for token ,tag in tagged_corpus])\n",
    "    \n",
    "    return pre_proc_text\n",
    "    \n",
    "    "
   ]
  },
  {
   "cell_type": "code",
   "execution_count": 12,
   "metadata": {},
   "outputs": [],
   "source": [
    "# Applies the preprocessing function\n",
    "news_2 = []\n",
    "for r in news['text']:\n",
    "    news_2.append(preprocessing(r))\n",
    "    "
   ]
  },
  {
   "cell_type": "code",
   "execution_count": 13,
   "metadata": {},
   "outputs": [],
   "source": [
    "#split train and test dataset\n",
    "x_train, x_test, y_train, y_test = train_test_split(news_2, news['category'])"
   ]
  },
  {
   "cell_type": "code",
   "execution_count": 14,
   "metadata": {},
   "outputs": [],
   "source": [
    "#building TFIDF Vectorizer\n",
    "vectorizer = TfidfVectorizer(min_df=3 ,stop_words ='english',strip_accents='unicode',ngram_range=(1,3))#,norm='l1')\n",
    "x_train_2 = vectorizer.fit_transform(x_train).todense()"
   ]
  },
  {
   "cell_type": "markdown",
   "metadata": {},
   "source": [
    "## Naive Bayes"
   ]
  },
  {
   "cell_type": "code",
   "execution_count": 15,
   "metadata": {},
   "outputs": [],
   "source": [
    "# Training the model\n",
    "nb = MultinomialNB().fit(x_train_2,y_train)\n",
    "#Predict\n",
    "nb_predicted = nb.predict(x_train_2)\n"
   ]
  },
  {
   "cell_type": "code",
   "execution_count": 16,
   "metadata": {},
   "outputs": [],
   "source": [
    "# Evalueate test dataset \n",
    "x_test_2 = vectorizer.transform(x_test).todense() \n",
    "nb_predicted_test = nb.predict(x_test_2)"
   ]
  },
  {
   "cell_type": "code",
   "execution_count": 17,
   "metadata": {},
   "outputs": [
    {
     "data": {
      "text/html": [
       "<div>\n",
       "<style>\n",
       "    .dataframe thead tr:only-child th {\n",
       "        text-align: right;\n",
       "    }\n",
       "\n",
       "    .dataframe thead th {\n",
       "        text-align: left;\n",
       "    }\n",
       "\n",
       "    .dataframe tbody tr th {\n",
       "        vertical-align: top;\n",
       "    }\n",
       "</style>\n",
       "<table border=\"1\" class=\"dataframe\">\n",
       "  <thead>\n",
       "    <tr style=\"text-align: right;\">\n",
       "      <th>Predicted</th>\n",
       "      <th>GREEN</th>\n",
       "      <th>MEDIA</th>\n",
       "      <th>RELIGION</th>\n",
       "      <th>SCIENCE</th>\n",
       "      <th>STYLE</th>\n",
       "      <th>TASTE</th>\n",
       "      <th>TECH</th>\n",
       "      <th>WEIRD NEWS</th>\n",
       "      <th>WORLD NEWS</th>\n",
       "    </tr>\n",
       "    <tr>\n",
       "      <th>Actuall</th>\n",
       "      <th></th>\n",
       "      <th></th>\n",
       "      <th></th>\n",
       "      <th></th>\n",
       "      <th></th>\n",
       "      <th></th>\n",
       "      <th></th>\n",
       "      <th></th>\n",
       "      <th></th>\n",
       "    </tr>\n",
       "  </thead>\n",
       "  <tbody>\n",
       "    <tr>\n",
       "      <th>GREEN</th>\n",
       "      <td>530</td>\n",
       "      <td>14</td>\n",
       "      <td>8</td>\n",
       "      <td>14</td>\n",
       "      <td>2</td>\n",
       "      <td>4</td>\n",
       "      <td>0</td>\n",
       "      <td>65</td>\n",
       "      <td>16</td>\n",
       "    </tr>\n",
       "    <tr>\n",
       "      <th>MEDIA</th>\n",
       "      <td>17</td>\n",
       "      <td>592</td>\n",
       "      <td>23</td>\n",
       "      <td>3</td>\n",
       "      <td>7</td>\n",
       "      <td>2</td>\n",
       "      <td>22</td>\n",
       "      <td>23</td>\n",
       "      <td>14</td>\n",
       "    </tr>\n",
       "    <tr>\n",
       "      <th>RELIGION</th>\n",
       "      <td>20</td>\n",
       "      <td>38</td>\n",
       "      <td>536</td>\n",
       "      <td>7</td>\n",
       "      <td>6</td>\n",
       "      <td>3</td>\n",
       "      <td>4</td>\n",
       "      <td>21</td>\n",
       "      <td>16</td>\n",
       "    </tr>\n",
       "    <tr>\n",
       "      <th>SCIENCE</th>\n",
       "      <td>85</td>\n",
       "      <td>21</td>\n",
       "      <td>17</td>\n",
       "      <td>379</td>\n",
       "      <td>2</td>\n",
       "      <td>20</td>\n",
       "      <td>6</td>\n",
       "      <td>42</td>\n",
       "      <td>4</td>\n",
       "    </tr>\n",
       "    <tr>\n",
       "      <th>STYLE</th>\n",
       "      <td>13</td>\n",
       "      <td>20</td>\n",
       "      <td>15</td>\n",
       "      <td>3</td>\n",
       "      <td>446</td>\n",
       "      <td>20</td>\n",
       "      <td>12</td>\n",
       "      <td>36</td>\n",
       "      <td>3</td>\n",
       "    </tr>\n",
       "    <tr>\n",
       "      <th>TASTE</th>\n",
       "      <td>15</td>\n",
       "      <td>16</td>\n",
       "      <td>7</td>\n",
       "      <td>5</td>\n",
       "      <td>13</td>\n",
       "      <td>408</td>\n",
       "      <td>10</td>\n",
       "      <td>41</td>\n",
       "      <td>6</td>\n",
       "    </tr>\n",
       "    <tr>\n",
       "      <th>TECH</th>\n",
       "      <td>14</td>\n",
       "      <td>46</td>\n",
       "      <td>6</td>\n",
       "      <td>10</td>\n",
       "      <td>9</td>\n",
       "      <td>5</td>\n",
       "      <td>407</td>\n",
       "      <td>24</td>\n",
       "      <td>12</td>\n",
       "    </tr>\n",
       "    <tr>\n",
       "      <th>WEIRD NEWS</th>\n",
       "      <td>44</td>\n",
       "      <td>28</td>\n",
       "      <td>13</td>\n",
       "      <td>22</td>\n",
       "      <td>19</td>\n",
       "      <td>25</td>\n",
       "      <td>10</td>\n",
       "      <td>438</td>\n",
       "      <td>15</td>\n",
       "    </tr>\n",
       "    <tr>\n",
       "      <th>WORLD NEWS</th>\n",
       "      <td>41</td>\n",
       "      <td>34</td>\n",
       "      <td>51</td>\n",
       "      <td>3</td>\n",
       "      <td>7</td>\n",
       "      <td>1</td>\n",
       "      <td>7</td>\n",
       "      <td>18</td>\n",
       "      <td>382</td>\n",
       "    </tr>\n",
       "  </tbody>\n",
       "</table>\n",
       "</div>"
      ],
      "text/plain": [
       "Predicted   GREEN  MEDIA  RELIGION  SCIENCE  STYLE  TASTE  TECH  WEIRD NEWS  \\\n",
       "Actuall                                                                       \n",
       "GREEN         530     14         8       14      2      4     0          65   \n",
       "MEDIA          17    592        23        3      7      2    22          23   \n",
       "RELIGION       20     38       536        7      6      3     4          21   \n",
       "SCIENCE        85     21        17      379      2     20     6          42   \n",
       "STYLE          13     20        15        3    446     20    12          36   \n",
       "TASTE          15     16         7        5     13    408    10          41   \n",
       "TECH           14     46         6       10      9      5   407          24   \n",
       "WEIRD NEWS     44     28        13       22     19     25    10         438   \n",
       "WORLD NEWS     41     34        51        3      7      1     7          18   \n",
       "\n",
       "Predicted   WORLD NEWS  \n",
       "Actuall                 \n",
       "GREEN               16  \n",
       "MEDIA               14  \n",
       "RELIGION            16  \n",
       "SCIENCE              4  \n",
       "STYLE                3  \n",
       "TASTE                6  \n",
       "TECH                12  \n",
       "WEIRD NEWS          15  \n",
       "WORLD NEWS         382  "
      ]
     },
     "execution_count": 17,
     "metadata": {},
     "output_type": "execute_result"
    }
   ],
   "source": [
    "#confusion_matrix \n",
    "pd.crosstab(y_test, nb_predicted_test,rownames =[\"Actuall\"],colnames = [\"Predicted\"])"
   ]
  },
  {
   "cell_type": "code",
   "execution_count": 18,
   "metadata": {},
   "outputs": [
    {
     "name": "stdout",
     "output_type": "stream",
     "text": [
      "             precision    recall  f1-score   support\n",
      "\n",
      "      GREEN       0.68      0.81      0.74       653\n",
      "      MEDIA       0.73      0.84      0.78       703\n",
      "   RELIGION       0.79      0.82      0.81       651\n",
      "    SCIENCE       0.85      0.66      0.74       576\n",
      "      STYLE       0.87      0.79      0.83       568\n",
      "      TASTE       0.84      0.78      0.81       521\n",
      "       TECH       0.85      0.76      0.81       533\n",
      " WEIRD NEWS       0.62      0.71      0.66       614\n",
      " WORLD NEWS       0.82      0.70      0.75       544\n",
      "\n",
      "avg / total       0.78      0.77      0.77      5363\n",
      "\n"
     ]
    }
   ],
   "source": [
    "# score on test dataset\n",
    "print(classification_report(y_test, nb_predicted_test))"
   ]
  },
  {
   "cell_type": "markdown",
   "metadata": {},
   "source": [
    "## K-Means"
   ]
  },
  {
   "cell_type": "code",
   "execution_count": null,
   "metadata": {},
   "outputs": [],
   "source": [
    "# K-means\n",
    "km = KMeans(n_clusters = 9,init= 'random',n_init=1,verbose = 1)\n",
    "km.fit(x_train_2)"
   ]
  },
  {
   "cell_type": "code",
   "execution_count": 41,
   "metadata": {},
   "outputs": [
    {
     "data": {
      "text/plain": [
       "array([0, 0, 0, ..., 0, 0, 0], dtype=int32)"
      ]
     },
     "execution_count": 41,
     "metadata": {},
     "output_type": "execute_result"
    }
   ],
   "source": [
    "km.labels_"
   ]
  },
  {
   "cell_type": "code",
   "execution_count": 43,
   "metadata": {},
   "outputs": [
    {
     "data": {
      "text/plain": [
       "(7243,)"
      ]
     },
     "execution_count": 43,
     "metadata": {},
     "output_type": "execute_result"
    }
   ],
   "source": [
    "km.labels_.shape"
   ]
  },
  {
   "cell_type": "code",
   "execution_count": 44,
   "metadata": {},
   "outputs": [
    {
     "data": {
      "text/plain": [
       "array([[  1.10199847e-04,   2.55529676e-03,   1.67927139e-04, ...,\n",
       "          2.41521866e-04,   9.00642152e-04,   5.82826854e-05],\n",
       "       [ -5.14996032e-19,   1.64798730e-17,   1.62630326e-19, ...,\n",
       "         -5.96311195e-19,   1.57353824e-03,  -8.13151629e-19],\n",
       "       [  2.98155597e-19,  -2.16840434e-18,   0.00000000e+00, ...,\n",
       "         -4.33680869e-19,  -8.67361738e-19,   1.35525272e-19],\n",
       "       [  2.39945655e-04,   4.27605676e-03,   7.42743450e-04, ...,\n",
       "          9.67587611e-04,   3.03043404e-04,   5.94420561e-04]])"
      ]
     },
     "execution_count": 44,
     "metadata": {},
     "output_type": "execute_result"
    }
   ],
   "source": [
    "km.cluster_centers_"
   ]
  },
  {
   "cell_type": "code",
   "execution_count": 33,
   "metadata": {},
   "outputs": [],
   "source": [
    "import matplotlib.pyplot as plt"
   ]
  },
  {
   "cell_type": "code",
   "execution_count": 45,
   "metadata": {},
   "outputs": [
    {
     "name": "stdout",
     "output_type": "stream",
     "text": [
      "Predicted      0    1   2    3\n",
      "Actuall                       \n",
      "RELIGION    1650   38  99  115\n",
      "SCIENCE      801   56   0  759\n",
      "STYLE       1341  235   0  127\n",
      "WEIRD NEWS  1830   69   0  123\n"
     ]
    }
   ],
   "source": [
    "print(pd.crosstab(y_train, km.labels_,rownames = [\"Actuall\"],colnames = [\"Predicted\"]) )"
   ]
  },
  {
   "cell_type": "code",
   "execution_count": 38,
   "metadata": {},
   "outputs": [
    {
     "data": {
      "text/plain": [
       "matrix([[ 0.,  0.,  0., ...,  0.,  0.,  0.],\n",
       "        [ 0.,  0.,  0., ...,  0.,  0.,  0.],\n",
       "        [ 0.,  0.,  0., ...,  0.,  0.,  0.],\n",
       "        ..., \n",
       "        [ 0.,  0.,  0., ...,  0.,  0.,  0.],\n",
       "        [ 0.,  0.,  0., ...,  0.,  0.,  0.],\n",
       "        [ 0.,  0.,  0., ...,  0.,  0.,  0.]])"
      ]
     },
     "execution_count": 38,
     "metadata": {},
     "output_type": "execute_result"
    }
   ],
   "source": [
    "x_test_2"
   ]
  },
  {
   "cell_type": "markdown",
   "metadata": {},
   "source": [
    "##### Books: \n",
    "##### STATISTICS_FOR_MACHINE_LEARNING<br>BUILDING MACHINE LEARNING SYSTEMS WITH PYTHON"
   ]
  },
  {
   "cell_type": "code",
   "execution_count": null,
   "metadata": {},
   "outputs": [],
   "source": []
  }
 ],
 "metadata": {
  "kernelspec": {
   "display_name": "Python 3",
   "language": "python",
   "name": "python3"
  },
  "language_info": {
   "codemirror_mode": {
    "name": "ipython",
    "version": 3
   },
   "file_extension": ".py",
   "mimetype": "text/x-python",
   "name": "python",
   "nbconvert_exporter": "python",
   "pygments_lexer": "ipython3",
   "version": "3.6.3"
  }
 },
 "nbformat": 4,
 "nbformat_minor": 2
}
